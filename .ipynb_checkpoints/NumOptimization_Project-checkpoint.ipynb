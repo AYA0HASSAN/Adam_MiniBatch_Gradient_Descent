{
 "cells": [
  {
   "cell_type": "markdown",
   "metadata": {},
   "source": [
    "### Import Necessary Libraries"
   ]
  },
  {
   "cell_type": "code",
   "execution_count": 1,
   "metadata": {},
   "outputs": [],
   "source": [
    "import numpy as np\n",
    "import pandas as pd\n",
    "import matplotlib.pyplot as plt\n",
    "from sklearn.preprocessing import StandardScaler \n",
    "from sklearn.linear_model import LinearRegression\n",
    "from sklearn import preprocessing\n",
    "from sklearn.metrics import r2_score"
   ]
  },
  {
   "cell_type": "markdown",
   "metadata": {},
   "source": [
    "### Read Data From CSV File"
   ]
  },
  {
   "cell_type": "code",
   "execution_count": 2,
   "metadata": {},
   "outputs": [
    {
     "data": {
      "text/html": [
       "<div>\n",
       "<style scoped>\n",
       "    .dataframe tbody tr th:only-of-type {\n",
       "        vertical-align: middle;\n",
       "    }\n",
       "\n",
       "    .dataframe tbody tr th {\n",
       "        vertical-align: top;\n",
       "    }\n",
       "\n",
       "    .dataframe thead th {\n",
       "        text-align: right;\n",
       "    }\n",
       "</style>\n",
       "<table border=\"1\" class=\"dataframe\">\n",
       "  <thead>\n",
       "    <tr style=\"text-align: right;\">\n",
       "      <th></th>\n",
       "      <th>x1</th>\n",
       "      <th>x2</th>\n",
       "      <th>x3</th>\n",
       "      <th>y</th>\n",
       "    </tr>\n",
       "  </thead>\n",
       "  <tbody>\n",
       "    <tr>\n",
       "      <th>0</th>\n",
       "      <td>93</td>\n",
       "      <td>88</td>\n",
       "      <td>93</td>\n",
       "      <td>185</td>\n",
       "    </tr>\n",
       "    <tr>\n",
       "      <th>1</th>\n",
       "      <td>89</td>\n",
       "      <td>91</td>\n",
       "      <td>90</td>\n",
       "      <td>180</td>\n",
       "    </tr>\n",
       "    <tr>\n",
       "      <th>2</th>\n",
       "      <td>96</td>\n",
       "      <td>98</td>\n",
       "      <td>100</td>\n",
       "      <td>196</td>\n",
       "    </tr>\n",
       "    <tr>\n",
       "      <th>3</th>\n",
       "      <td>73</td>\n",
       "      <td>66</td>\n",
       "      <td>70</td>\n",
       "      <td>142</td>\n",
       "    </tr>\n",
       "    <tr>\n",
       "      <th>4</th>\n",
       "      <td>53</td>\n",
       "      <td>46</td>\n",
       "      <td>55</td>\n",
       "      <td>101</td>\n",
       "    </tr>\n",
       "  </tbody>\n",
       "</table>\n",
       "</div>"
      ],
      "text/plain": [
       "   x1  x2   x3    y\n",
       "0  93  88   93  185\n",
       "1  89  91   90  180\n",
       "2  96  98  100  196\n",
       "3  73  66   70  142\n",
       "4  53  46   55  101"
      ]
     },
     "execution_count": 2,
     "metadata": {},
     "output_type": "execute_result"
    }
   ],
   "source": [
    "multiple_lr = pd.read_csv(\"MultipleLR.csv - MultipleLR.csv.csv\")\n",
    "multiple_lr.columns = [\"x1\",\"x2\",\"x3\",\"y\"]\n",
    "multiple_lr.head()"
   ]
  },
  {
   "cell_type": "markdown",
   "metadata": {},
   "source": [
    "divide dataset into Features(x_points) and Labels(y_points)"
   ]
  },
  {
   "cell_type": "code",
   "execution_count": 3,
   "metadata": {},
   "outputs": [
    {
     "name": "stdout",
     "output_type": "stream",
     "text": [
      "x_points shape : (24, 4)\n",
      "y_points shape : (24, 1)\n"
     ]
    }
   ],
   "source": [
    "x = multiple_lr[[\"x1\",\"x2\",\"x3\"]]\n",
    "y = multiple_lr[[\"y\"]]\n",
    "y_points = np.ones((len(y),1),dtype=\"float32\")\n",
    "x_points = np.ones((len(x),4),dtype=\"float32\")\n",
    "y_points[:] = y\n",
    "x_points[:,1:4] =x\n",
    "print(\"x_points shape :\",x_points.shape)\n",
    "print(\"y_points shape :\",y_points.shape)"
   ]
  },
  {
   "cell_type": "markdown",
   "metadata": {},
   "source": [
    "## Functions"
   ]
  },
  {
   "cell_type": "markdown",
   "metadata": {},
   "source": [
    "### Loss Function"
   ]
  },
  {
   "cell_type": "code",
   "execution_count": 4,
   "metadata": {},
   "outputs": [],
   "source": [
    "def Loss (x_points,y_points,theta):\n",
    "    y_hat = x_points @ theta\n",
    "    cost = 1/(2* len(y_points)) * sum((y_hat -y_points)**2)\n",
    "    return cost"
   ]
  },
  {
   "cell_type": "markdown",
   "metadata": {},
   "source": [
    "### Vanilla/Batch Adam Gradient Decsent"
   ]
  },
  {
   "cell_type": "code",
   "execution_count": 5,
   "metadata": {},
   "outputs": [],
   "source": [
    "def Batch_Adam(x_points,y_points,alpha,beta_1,beta_2,epson,iterations):\n",
    "    \n",
    "    # Initialization of UnReturned Values\n",
    "    m = len(y_points)\n",
    "    dimention = x_points.shape[1]\n",
    "    momentum = np.zeros((dimention,1))\n",
    "    V = np.zeros((dimention,1))\n",
    "    \n",
    "    # Initialization of Output (Returned Values)\n",
    "    theta = np.zeros((dimention,1))\n",
    "    theta_history = np.zeros((iterations,dimention))\n",
    "    cost_history = np.zeros(iterations)\n",
    "    hypothesis = np.zeros((iterations,m))\n",
    "    loops = 0\n",
    "    \n",
    "    # Start Looping\n",
    "    for i in range(iterations):\n",
    "        # Predict Y \n",
    "        y_hat = x_points @ theta\n",
    "        # add y_hat to hypothesis\n",
    "        hypothesis[i,:] = y_hat.T\n",
    "        # Calculate Gradient\n",
    "        gradient = x_points.T @ (y_hat - y_points)\n",
    "        V = V * beta_1 + (1-beta_1) * (gradient)**2\n",
    "        momentum = momentum * beta_2 + (1-beta_2) * gradient\n",
    "        # Bais Correction \n",
    "        V_hat = V / (1-np.power(beta_1,i+1))\n",
    "        momentum_hat = momentum / (1-np.power(beta_2,i+1))\n",
    "        update_gradient = alpha / (np.sqrt(V_hat+epson)) * momentum_hat\n",
    "        # Update Theta\n",
    "        theta = theta - update_gradient\n",
    "        # add new values to Output\n",
    "        loops += 1\n",
    "        theta_history[i] = theta.T\n",
    "        cost_history[i] = Loss(x_points,y_points,theta)\n",
    "        # Stop Conditions\n",
    "        if i > 1 :\n",
    "            if abs(np.linalg.norm(update_gradient)) <= 0.001:\n",
    "                break\n",
    "            if abs(cost_history[i-1] - cost_history[i]) <= 0.001:\n",
    "                break\n",
    "            if abs(np.linalg.norm(theta_history[i-1]) - np.linalg.norm(theta_history[i])) <= 0.001:\n",
    "                break\n",
    "    return theta, theta_history, cost_history, hypothesis, loops"
   ]
  },
  {
   "cell_type": "markdown",
   "metadata": {},
   "source": [
    "### Adam Batch/Vanilla Hyperparameters"
   ]
  },
  {
   "cell_type": "code",
   "execution_count": 6,
   "metadata": {},
   "outputs": [],
   "source": [
    "iterations = 500\n",
    "alpha = 0.001\n",
    "beta_1 = 0.9\n",
    "beta_2 = 0.99\n",
    "epson = 1e-9"
   ]
  },
  {
   "cell_type": "code",
   "execution_count": 7,
   "metadata": {},
   "outputs": [],
   "source": [
    "theta, theta_history, cost_history, hypothesis, n_loops = Batch_Adam(x_points,y_points,alpha,beta_1,beta_2,epson,iterations)\n",
    "y_predict = x_points @ theta\n",
    "r2 = r2_score(y_points,y_predict)"
   ]
  },
  {
   "cell_type": "markdown",
   "metadata": {},
   "source": [
    "### Adam Batch/Vanilla Results"
   ]
  },
  {
   "cell_type": "code",
   "execution_count": 8,
   "metadata": {},
   "outputs": [
    {
     "name": "stdout",
     "output_type": "stream",
     "text": [
      "Adam Gradient Descent Info. :- \n",
      "Number of Actual Loops = 500\n",
      "Theta_0 = 0.6714574808900182\n",
      "Theta_1 = 0.6716204976667253\n",
      "Theta_2 = 0.6716242858615632\n",
      "Theta_3 = 0.670771156044993\n",
      "Cost/Loss = 6.281707899997305\n",
      "R_Squared Of Adam = 0.9781029128920617\n"
     ]
    }
   ],
   "source": [
    "print(\"Adam Gradient Descent Info. :- \")\n",
    "print(\"Number of Actual Loops = {}\".format(n_loops))\n",
    "print(\"Theta_0 = {}\".format(theta[0][0]))\n",
    "print(\"Theta_1 = {}\".format(theta[1][0]))\n",
    "print(\"Theta_2 = {}\".format(theta[2][0]))\n",
    "print(\"Theta_3 = {}\".format(theta[3][0]))\n",
    "print(\"Cost/Loss = {}\".format(cost_history[n_loops-1]))\n",
    "print(\"R_Squared Of Adam = {}\".format(r2))"
   ]
  },
  {
   "cell_type": "code",
   "execution_count": 9,
   "metadata": {},
   "outputs": [
    {
     "name": "stdout",
     "output_type": "stream",
     "text": [
      "Best Prediction Of Adam = \n",
      " [[184.61681843]\n",
      " [181.93289583]\n",
      " [198.04332088]\n",
      " [140.9809376 ]\n",
      " [104.05447459]\n",
      " [148.36284799]\n",
      " [110.09485024]\n",
      " [172.53016341]\n",
      " [159.77103854]\n",
      " [142.99326622]\n",
      " [140.97753645]\n",
      " [187.97664612]\n",
      " [156.42571406]\n",
      " [149.03361536]\n",
      " [187.30075619]\n",
      " [149.04211635]\n",
      " [177.90062103]\n",
      " [179.24981499]\n",
      " [160.45205104]\n",
      " [173.87343092]\n",
      " [173.20264461]\n",
      " [165.81822029]\n",
      " [155.08418311]\n",
      " [191.33134367]]\n"
     ]
    }
   ],
   "source": [
    "print(\"Best Prediction Of Adam = \\n {}\".format(y_predict))"
   ]
  },
  {
   "cell_type": "markdown",
   "metadata": {},
   "source": [
    "### Adam Batch/Vanilla Visualization"
   ]
  },
  {
   "cell_type": "markdown",
   "metadata": {},
   "source": [
    "#### Epochs VS Cost/Loss"
   ]
  },
  {
   "cell_type": "code",
   "execution_count": 10,
   "metadata": {},
   "outputs": [
    {
     "name": "stderr",
     "output_type": "stream",
     "text": [
      "C:\\Users\\AYAHAS~1\\AppData\\Local\\Temp/ipykernel_6840/3795447472.py:1: UserWarning: color is redundantly defined by the 'color' keyword argument and the fmt string \"b.-\" (-> color='b'). The keyword argument will take precedence.\n",
      "  plt.plot(range(n_loops),cost_history[:n_loops],'b.-',color = 'red')\n"
     ]
    },
    {
     "data": {
      "text/plain": [
       "Text(0.5, 1.0, 'Epochs VS Cost/Loss')"
      ]
     },
     "execution_count": 10,
     "metadata": {},
     "output_type": "execute_result"
    },
    {
     "data": {
      "image/png": "[encoded data removed]",
      "text/plain": [
       "<Figure size 432x288 with 1 Axes>"
      ]
     },
     "metadata": {
      "needs_background": "light"
     },
     "output_type": "display_data"
    }
   ],
   "source": [
    "plt.plot(range(n_loops),cost_history[:n_loops],'b.-',color = 'red')\n",
    "plt.grid()\n",
    "plt.xlabel(\"Epochs\")\n",
    "plt.ylabel(\"Cost/Loss\")\n",
    "plt.title(\"Epochs VS Cost/Loss\")"
   ]
  },
  {
   "cell_type": "markdown",
   "metadata": {},
   "source": [
    "#### Thetas VS Cost/Loss"
   ]
  },
  {
   "cell_type": "code",
   "execution_count": 11,
   "metadata": {},
   "outputs": [
    {
     "data": {
      "text/plain": [
       "Text(0.5, 1.0, 'Theta_0 VS Cost/Loss')"
      ]
     },
     "execution_count": 11,
     "metadata": {},
     "output_type": "execute_result"
    },
    {
     "data": {
      "image/png": "[encoded data removed]",
      "text/plain": [
       "<Figure size 432x288 with 1 Axes>"
      ]
     },
     "metadata": {
      "needs_background": "light"
     },
     "output_type": "display_data"
    }
   ],
   "source": [
    "plt.plot(theta_history[:,0],cost_history,'.-',color = 'green')\n",
    "plt.grid()\n",
    "plt.xlabel(\"Theta_0\")\n",
    "plt.ylabel(\"Cost/Loss\")\n",
    "plt.title(\"Theta_0 VS Cost/Loss\")"
   ]
  },
  {
   "cell_type": "code",
   "execution_count": 12,
   "metadata": {},
   "outputs": [
    {
     "data": {
      "text/plain": [
       "Text(0.5, 1.0, 'Theta_0 VS Cost/Loss')"
      ]
     },
     "execution_count": 12,
     "metadata": {},
     "output_type": "execute_result"
    },
    {
     "data": {
      "image/png": "[encoded data removed]",
      "text/plain": [
       "<Figure size 432x288 with 1 Axes>"
      ]
     },
     "metadata": {
      "needs_background": "light"
     },
     "output_type": "display_data"
    }
   ],
   "source": [
    "plt.plot(theta_history[:,1],cost_history,'.-',color = 'blue')\n",
    "plt.grid()\n",
    "plt.xlabel(\"Theta_1\")\n",
    "plt.ylabel(\"Cost/Loss\")\n",
    "plt.title(\"Theta_0 VS Cost/Loss\")"
   ]
  },
  {
   "cell_type": "code",
   "execution_count": 13,
   "metadata": {},
   "outputs": [
    {
     "data": {
      "text/plain": [
       "Text(0.5, 1.0, 'Theta_2 VS Cost/Loss')"
      ]
     },
     "execution_count": 13,
     "metadata": {},
     "output_type": "execute_result"
    },
    {
     "data": {
      "image/png": "[encoded data removed]",
      "text/plain": [
       "<Figure size 432x288 with 1 Axes>"
      ]
     },
     "metadata": {
      "needs_background": "light"
     },
     "output_type": "display_data"
    }
   ],
   "source": [
    "plt.plot(theta_history[:,2],cost_history,'.-',color = 'purple')\n",
    "plt.grid()\n",
    "plt.xlabel(\"Theta_2\")\n",
    "plt.ylabel(\"Cost/Loss\")\n",
    "plt.title(\"Theta_2 VS Cost/Loss\")"
   ]
  },
  {
   "cell_type": "code",
   "execution_count": 14,
   "metadata": {},
   "outputs": [
    {
     "data": {
      "text/plain": [
       "Text(0.5, 1.0, 'Theta_2 VS Cost/Loss')"
      ]
     },
     "execution_count": 14,
     "metadata": {},
     "output_type": "execute_result"
    },
    {
     "data": {
      "image/png": "[encoded data removed]",
      "text/plain": [
       "<Figure size 432x288 with 1 Axes>"
      ]
     },
     "metadata": {
      "needs_background": "light"
     },
     "output_type": "display_data"
    }
   ],
   "source": [
    "plt.plot(theta_history[:,2],cost_history,'.-',color = 'orange')\n",
    "plt.grid()\n",
    "plt.xlabel(\"Theta_2\")\n",
    "plt.ylabel(\"Cost/Loss\")\n",
    "plt.title(\"Theta_2 VS Cost/Loss\")"
   ]
  },
  {
   "cell_type": "markdown",
   "metadata": {},
   "source": [
    "### Mini-Batch Adam Gradient Decsent"
   ]
  },
  {
   "cell_type": "code",
   "execution_count": 15,
   "metadata": {},
   "outputs": [],
   "source": [
    "def MiniBatch_Adam(x_points,y_points,alpha,beta_1,beta_2,epson,batch,iterations):\n",
    "    \n",
    "    # Initialization of UnReturned Values\n",
    "    m = len(y_points)\n",
    "    dimention = x_points.shape[1]\n",
    "    momentum = np.zeros((dimention,1))\n",
    "    V = np.zeros((dimention,1))\n",
    "    \n",
    "    # Initialization of Output (Returned Values)\n",
    "    theta = np.zeros((dimention,1))\n",
    "    theta_history = np.zeros((iterations,dimention))\n",
    "    cost_history = np.zeros(iterations)\n",
    "    hypothesis = np.zeros((iterations,m))\n",
    "    loops = 0\n",
    "    \n",
    "    # Shuffle Data\n",
    "    np.random.seed(55)\n",
    "    all_data = np.block([y_points,x_points])\n",
    "    all_data = np.random.permutation(all_data)\n",
    "    y_new = all_data[:,0:1]\n",
    "    x_new = all_data[:,1:]\n",
    "    \n",
    "    # Start Looping\n",
    "    for i in range(iterations):\n",
    "        \n",
    "        cost = 0\n",
    "        # Loop over Batch\n",
    "        for j in range(0,m,batch):\n",
    "            x_current = x_new[j:j+batch]\n",
    "            y_current = y_new[j:j+batch]\n",
    "            # Adam Style\n",
    "            y_hat = x_current @ theta\n",
    "            # add y_hat to hypothesis\n",
    "            hypothesis[i,j:j+batch] = y_hat.T\n",
    "            # Calculate Gradient\n",
    "            gradient = x_current.T @ (y_hat - y_current)\n",
    "            V = V * beta_1 + (1-beta_1) * (gradient)**2\n",
    "            momentum = momentum * beta_2 + (1-beta_2) * gradient\n",
    "            # Bais Correction \n",
    "            V_hat = V / (1-np.power(beta_1,i+1))\n",
    "            momentum_hat = momentum / (1-np.power(beta_2,i+1))\n",
    "            update_gradient = alpha / (np.sqrt(V_hat+epson)) * momentum_hat\n",
    "            # Update Theta\n",
    "            theta = theta - update_gradient\n",
    "            # commulate cost\n",
    "            cost += Loss(x_current,y_current,theta)\n",
    "            \n",
    "        # add new values to Output\n",
    "        loops += 1\n",
    "        theta_history[i] = theta.T\n",
    "        cost_history[i] = cost\n",
    "        # Stop Conditions\n",
    "        if i > 1 :\n",
    "            if abs(cost_history[i-1] - cost_history[i]) <= 0.0001:\n",
    "                break\n",
    "            if abs(np.linalg.norm(theta_history[i-1]) - np.linalg.norm(theta_history[i])) <= 0.00001:\n",
    "                break\n",
    "    return theta, theta_history, cost_history, hypothesis, loops"
   ]
  },
  {
   "cell_type": "markdown",
   "metadata": {},
   "source": [
    "### MiniBatch Hyperparameters"
   ]
  },
  {
   "cell_type": "code",
   "execution_count": 16,
   "metadata": {},
   "outputs": [],
   "source": [
    "iterations = 1000\n",
    "alpha = 0.001\n",
    "beta_1 = 0.8\n",
    "beta_2 = 0.88\n",
    "epson = 1e-9\n",
    "batch = 4"
   ]
  },
  {
   "cell_type": "code",
   "execution_count": 17,
   "metadata": {},
   "outputs": [],
   "source": [
    "theta, theta_history, cost_history, hypothesis, n_loops = MiniBatch_Adam(x_points,y_points,alpha,beta_1,beta_2,epson,batch,iterations)\n",
    "y_predict = x_points @ theta\n",
    "r2 = r2_score(y_points,y_predict)"
   ]
  },
  {
   "cell_type": "markdown",
   "metadata": {},
   "source": [
    "### MiniBatch Adam Results"
   ]
  },
  {
   "cell_type": "code",
   "execution_count": 18,
   "metadata": {},
   "outputs": [
    {
     "name": "stdout",
     "output_type": "stream",
     "text": [
      "Adam Gradient Descent With MiniBatch Info. :- \n",
      "Number of Actual Loops = 1000\n",
      "Theta_0 = 0.44145662130401453\n",
      "Theta_1 = 0.5068382665584339\n",
      "Theta_2 = 0.5451784872387178\n",
      "Theta_3 = 0.9617673684469072\n",
      "Cost/Loss = 21.677639426544165\n",
      "R_Squared Of MiniBatch_Adam = 0.9874453425941038\n"
     ]
    }
   ],
   "source": [
    "print(\"Adam Gradient Descent With MiniBatch Info. :- \")\n",
    "print(\"Number of Actual Loops = {}\".format(n_loops))\n",
    "print(\"Theta_0 = {}\".format(theta[0][0]))\n",
    "print(\"Theta_1 = {}\".format(theta[1][0]))\n",
    "print(\"Theta_2 = {}\".format(theta[2][0]))\n",
    "print(\"Theta_3 = {}\".format(theta[3][0]))\n",
    "print(\"Cost/Loss = {}\".format(cost_history[n_loops-1]))\n",
    "print(\"R_Squared Of MiniBatch_Adam = {}\".format(r2))"
   ]
  },
  {
   "cell_type": "code",
   "execution_count": 19,
   "metadata": {},
   "outputs": [
    {
     "name": "stdout",
     "output_type": "stream",
     "text": [
      "Best Prediction Of MiniBatch_Adam = \n",
      " [[184.99748755]\n",
      " [181.72036784]\n",
      " [198.7021588 ]\n",
      " [140.74614603]\n",
      " [105.27930043]\n",
      " [149.81259244]\n",
      " [112.49889254]\n",
      " [174.16454946]\n",
      " [163.27970221]\n",
      " [143.78480902]\n",
      " [142.52752222]\n",
      " [186.89020223]\n",
      " [154.30497656]\n",
      " [150.73601959]\n",
      " [188.42796815]\n",
      " [146.26340901]\n",
      " [180.00578533]\n",
      " [177.91163859]\n",
      " [159.28074322]\n",
      " [175.44660754]\n",
      " [174.33147929]\n",
      " [166.97488217]\n",
      " [152.49646248]\n",
      " [191.16742953]]\n"
     ]
    }
   ],
   "source": [
    "print(\"Best Prediction Of MiniBatch_Adam = \\n {}\".format(y_predict))"
   ]
  },
  {
   "cell_type": "markdown",
   "metadata": {},
   "source": [
    "### MiniBatch Adam Visualization"
   ]
  },
  {
   "cell_type": "markdown",
   "metadata": {},
   "source": [
    "#### Epochs VS Cost/Loss"
   ]
  },
  {
   "cell_type": "code",
   "execution_count": 20,
   "metadata": {},
   "outputs": [
    {
     "name": "stderr",
     "output_type": "stream",
     "text": [
      "C:\\Users\\AYAHAS~1\\AppData\\Local\\Temp/ipykernel_6840/3795447472.py:1: UserWarning: color is redundantly defined by the 'color' keyword argument and the fmt string \"b.-\" (-> color='b'). The keyword argument will take precedence.\n",
      "  plt.plot(range(n_loops),cost_history[:n_loops],'b.-',color = 'red')\n"
     ]
    },
    {
     "data": {
      "text/plain": [
       "Text(0.5, 1.0, 'Epochs VS Cost/Loss')"
      ]
     },
     "execution_count": 20,
     "metadata": {},
     "output_type": "execute_result"
    },
    {
     "data": {
      "image/png": "[encoded data removed]",
      "text/plain": [
       "<Figure size 432x288 with 1 Axes>"
      ]
     },
     "metadata": {
      "needs_background": "light"
     },
     "output_type": "display_data"
    }
   ],
   "source": [
    "plt.plot(range(n_loops),cost_history[:n_loops],'b.-',color = 'red')\n",
    "plt.grid()\n",
    "plt.xlabel(\"Epochs\")\n",
    "plt.ylabel(\"Cost/Loss\")\n",
    "plt.title(\"Epochs VS Cost/Loss\")"
   ]
  },
  {
   "cell_type": "markdown",
   "metadata": {},
   "source": [
    "#### Thetas VS Cost/Loss"
   ]
  },
  {
   "cell_type": "code",
   "execution_count": 21,
   "metadata": {},
   "outputs": [
    {
     "data": {
      "text/plain": [
       "Text(0.5, 1.0, 'Theta_0 VS Cost/Loss')"
      ]
     },
     "execution_count": 21,
     "metadata": {},
     "output_type": "execute_result"
    },
    {
     "data": {
      "image/png": "[encoded data removed]",
      "text/plain": [
       "<Figure size 432x288 with 1 Axes>"
      ]
     },
     "metadata": {
      "needs_background": "light"
     },
     "output_type": "display_data"
    }
   ],
   "source": [
    "plt.plot(theta_history[:n_loops,0],cost_history[:n_loops],'.-',color = 'green')\n",
    "plt.grid()\n",
    "plt.xlabel(\"Theta_0\")\n",
    "plt.ylabel(\"Cost/Loss\")\n",
    "plt.title(\"Theta_0 VS Cost/Loss\")"
   ]
  },
  {
   "cell_type": "code",
   "execution_count": 22,
   "metadata": {},
   "outputs": [
    {
     "data": {
      "text/plain": [
       "Text(0.5, 1.0, 'Theta_1 VS Cost/Loss')"
      ]
     },
     "execution_count": 22,
     "metadata": {},
     "output_type": "execute_result"
    },
    {
     "data": {
      "image/png": "[encoded data removed]",
      "text/plain": [
       "<Figure size 432x288 with 1 Axes>"
      ]
     },
     "metadata": {
      "needs_background": "light"
     },
     "output_type": "display_data"
    }
   ],
   "source": [
    "plt.plot(theta_history[:n_loops,1],cost_history[:n_loops],'.-',color = 'blue')\n",
    "plt.grid()\n",
    "plt.xlabel(\"Theta_1\")\n",
    "plt.ylabel(\"Cost/Loss\")\n",
    "plt.title(\"Theta_1 VS Cost/Loss\")"
   ]
  },
  {
   "cell_type": "code",
   "execution_count": 23,
   "metadata": {},
   "outputs": [
    {
     "data": {
      "text/plain": [
       "Text(0.5, 1.0, 'Theta_2 VS Cost/Loss')"
      ]
     },
     "execution_count": 23,
     "metadata": {},
     "output_type": "execute_result"
    },
    {
     "data": {
      "image/png": "[encoded data removed]",
      "text/plain": [
       "<Figure size 432x288 with 1 Axes>"
      ]
     },
     "metadata": {
      "needs_background": "light"
     },
     "output_type": "display_data"
    }
   ],
   "source": [
    "plt.plot(theta_history[:n_loops,2],cost_history[:n_loops],'.-',color = 'purple')\n",
    "plt.grid()\n",
    "plt.xlabel(\"Theta_2\")\n",
    "plt.ylabel(\"Cost/Loss\")\n",
    "plt.title(\"Theta_2 VS Cost/Loss\")"
   ]
  },
  {
   "cell_type": "code",
   "execution_count": 24,
   "metadata": {},
   "outputs": [
    {
     "data": {
      "text/plain": [
       "Text(0.5, 1.0, 'Theta_3 VS Cost/Loss')"
      ]
     },
     "execution_count": 24,
     "metadata": {},
     "output_type": "execute_result"
    },
    {
     "data": {
      "image/png": "[encoded data removed]",
      "text/plain": [
       "<Figure size 432x288 with 1 Axes>"
      ]
     },
     "metadata": {
      "needs_background": "light"
     },
     "output_type": "display_data"
    }
   ],
   "source": [
    "plt.plot(theta_history[:n_loops,3],cost_history[:n_loops],'.-',color = 'orange')\n",
    "plt.grid()\n",
    "plt.xlabel(\"Theta_3\")\n",
    "plt.ylabel(\"Cost/Loss\")\n",
    "plt.title(\"Theta_3 VS Cost/Loss\")"
   ]
  },
  {
   "cell_type": "markdown",
   "metadata": {},
   "source": [
    "Trying With Sklearn"
   ]
  },
  {
   "cell_type": "code",
   "execution_count": 25,
   "metadata": {},
   "outputs": [
    {
     "data": {
      "text/plain": [
       "(array([-4.225357], dtype=float32),\n",
       " array([[0.        , 0.35120523, 0.5489898 , 1.1646999 ]], dtype=float32))"
      ]
     },
     "execution_count": 25,
     "metadata": {},
     "output_type": "execute_result"
    }
   ],
   "source": [
    "stand_scaler = StandardScaler()\n",
    "x_transform = stand_scaler.fit_transform(x_points)\n",
    "lin_reg = LinearRegression().fit(x_points,y_points)\n",
    "lin_reg.intercept_ , lin_reg.coef_ "
   ]
  },
  {
   "cell_type": "code",
   "execution_count": 26,
   "metadata": {},
   "outputs": [
    {
     "data": {
      "text/plain": [
       "0.9896129322625258"
      ]
     },
     "execution_count": 26,
     "metadata": {},
     "output_type": "execute_result"
    }
   ],
   "source": [
    "lin_reg.score(x_points,y_points)"
   ]
  },
  {
   "cell_type": "code",
   "execution_count": null,
   "metadata": {},
   "outputs": [],
   "source": []
  }
 ],
 "metadata": {
  "interpreter": {
   "hash": "a1142d720e99f307e4e70b441fdb64cbdb7932ac5e1ff734610ea88a30644c71"
  },
  "kernelspec": {
   "display_name": "Python 3 (ipykernel)",
   "language": "python",
   "name": "python3"
  },
  "language_info": {
   "codemirror_mode": {
    "name": "ipython",
    "version": 3
   },
   "file_extension": ".py",
   "mimetype": "text/x-python",
   "name": "python",
   "nbconvert_exporter": "python",
   "pygments_lexer": "ipython3",
   "version": "3.9.7"
  }
 },
 "nbformat": 4,
 "nbformat_minor": 2
}
